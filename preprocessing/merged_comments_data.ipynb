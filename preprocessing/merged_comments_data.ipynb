{
 "cells": [
  {
   "cell_type": "markdown",
   "id": "14b779df",
   "metadata": {},
   "source": [
    "### LOREAL Datathon by Calvin Chong"
   ]
  },
  {
   "cell_type": "markdown",
   "id": "f71c8c5f",
   "metadata": {},
   "source": [
    "#### All participants are given 6 files of data, 5 of which are comments1, comments2, comments3, etc. Each file has around 70k rows of data, each containing information about a particular comment left on a youtube video. \n",
    "#### The last file is the videos data, containing information about the video. "
   ]
  },
  {
   "cell_type": "markdown",
   "id": "ace560f0",
   "metadata": {},
   "source": [
    "Rough outline of what to do. First will definitely be combining the datasets together. \n",
    "\n",
    "1. Decode weird symbols (probably emojis)\n",
    "2. Translate non-english comments\n",
    "3. Perform EDA "
   ]
  },
  {
   "cell_type": "code",
   "execution_count": 3,
   "id": "84885ab3",
   "metadata": {},
   "outputs": [],
   "source": [
    "import pandas as pd\n",
    "import numpy as np"
   ]
  },
  {
   "cell_type": "code",
   "execution_count": 7,
   "id": "05f4de6f",
   "metadata": {},
   "outputs": [],
   "source": [
    "df = pd.read_csv(\"dataset/comments1.csv\")\n",
    "\n",
    "df2 = pd.read_csv(\"dataset/comments2.csv\")\n",
    "df3 = pd.read_csv(\"dataset/comments3.csv\")\n",
    "df4 = pd.read_csv(\"dataset/comments4.csv\")\n",
    "df5 = pd.read_csv(\"dataset/comments5.csv\")"
   ]
  },
  {
   "cell_type": "code",
   "execution_count": 8,
   "id": "df6d8ad3",
   "metadata": {},
   "outputs": [],
   "source": [
    "df = pd.concat([df,df2,df3,df4,df5],axis = 0)\n",
    "\n"
   ]
  },
  {
   "cell_type": "code",
   "execution_count": 9,
   "id": "5f93a452",
   "metadata": {},
   "outputs": [
    {
     "data": {
      "text/html": [
       "<div>\n",
       "<style scoped>\n",
       "    .dataframe tbody tr th:only-of-type {\n",
       "        vertical-align: middle;\n",
       "    }\n",
       "\n",
       "    .dataframe tbody tr th {\n",
       "        vertical-align: top;\n",
       "    }\n",
       "\n",
       "    .dataframe thead th {\n",
       "        text-align: right;\n",
       "    }\n",
       "</style>\n",
       "<table border=\"1\" class=\"dataframe\">\n",
       "  <thead>\n",
       "    <tr style=\"text-align: right;\">\n",
       "      <th></th>\n",
       "      <th>kind</th>\n",
       "      <th>commentId</th>\n",
       "      <th>channelId</th>\n",
       "      <th>videoId</th>\n",
       "      <th>authorId</th>\n",
       "      <th>textOriginal</th>\n",
       "      <th>parentCommentId</th>\n",
       "      <th>likeCount</th>\n",
       "      <th>publishedAt</th>\n",
       "      <th>updatedAt</th>\n",
       "    </tr>\n",
       "  </thead>\n",
       "  <tbody>\n",
       "    <tr>\n",
       "      <th>0</th>\n",
       "      <td>youtube#comment</td>\n",
       "      <td>1781382</td>\n",
       "      <td>14492</td>\n",
       "      <td>74288</td>\n",
       "      <td>2032536</td>\n",
       "      <td>PLEASE LESBIAN FLAG I BEG YOU \\n\\nYou would ro...</td>\n",
       "      <td>NaN</td>\n",
       "      <td>0</td>\n",
       "      <td>2023-08-15 21:48:52+00:00</td>\n",
       "      <td>2023-08-15 21:48:52+00:00</td>\n",
       "    </tr>\n",
       "    <tr>\n",
       "      <th>1</th>\n",
       "      <td>youtube#comment</td>\n",
       "      <td>289571</td>\n",
       "      <td>14727</td>\n",
       "      <td>79618</td>\n",
       "      <td>3043229</td>\n",
       "      <td>Apply mashed potato juice and mixed it with curd</td>\n",
       "      <td>3198066.0</td>\n",
       "      <td>0</td>\n",
       "      <td>2023-10-02 13:08:22+00:00</td>\n",
       "      <td>2023-10-02 13:08:22+00:00</td>\n",
       "    </tr>\n",
       "    <tr>\n",
       "      <th>2</th>\n",
       "      <td>youtube#comment</td>\n",
       "      <td>569077</td>\n",
       "      <td>3314</td>\n",
       "      <td>51826</td>\n",
       "      <td>917006</td>\n",
       "      <td>69 missed calls from mars👽</td>\n",
       "      <td>NaN</td>\n",
       "      <td>0</td>\n",
       "      <td>2024-05-31 12:03:12+00:00</td>\n",
       "      <td>2024-05-31 12:03:12+00:00</td>\n",
       "    </tr>\n",
       "    <tr>\n",
       "      <th>3</th>\n",
       "      <td>youtube#comment</td>\n",
       "      <td>2957962</td>\n",
       "      <td>5008</td>\n",
       "      <td>58298</td>\n",
       "      <td>1853470</td>\n",
       "      <td>Baaa</td>\n",
       "      <td>NaN</td>\n",
       "      <td>0</td>\n",
       "      <td>2024-02-13 15:48:37+00:00</td>\n",
       "      <td>2024-02-13 15:48:37+00:00</td>\n",
       "    </tr>\n",
       "    <tr>\n",
       "      <th>4</th>\n",
       "      <td>youtube#comment</td>\n",
       "      <td>673093</td>\n",
       "      <td>21411</td>\n",
       "      <td>1265</td>\n",
       "      <td>2584166</td>\n",
       "      <td>you look like raven from phenomena raven no cap</td>\n",
       "      <td>NaN</td>\n",
       "      <td>0</td>\n",
       "      <td>2020-02-15 22:28:44+00:00</td>\n",
       "      <td>2020-02-15 22:28:44+00:00</td>\n",
       "    </tr>\n",
       "  </tbody>\n",
       "</table>\n",
       "</div>"
      ],
      "text/plain": [
       "              kind  commentId  channelId  videoId  authorId  \\\n",
       "0  youtube#comment    1781382      14492    74288   2032536   \n",
       "1  youtube#comment     289571      14727    79618   3043229   \n",
       "2  youtube#comment     569077       3314    51826    917006   \n",
       "3  youtube#comment    2957962       5008    58298   1853470   \n",
       "4  youtube#comment     673093      21411     1265   2584166   \n",
       "\n",
       "                                        textOriginal  parentCommentId  \\\n",
       "0  PLEASE LESBIAN FLAG I BEG YOU \\n\\nYou would ro...              NaN   \n",
       "1   Apply mashed potato juice and mixed it with curd        3198066.0   \n",
       "2                         69 missed calls from mars👽              NaN   \n",
       "3                                               Baaa              NaN   \n",
       "4    you look like raven from phenomena raven no cap              NaN   \n",
       "\n",
       "   likeCount                publishedAt                  updatedAt  \n",
       "0          0  2023-08-15 21:48:52+00:00  2023-08-15 21:48:52+00:00  \n",
       "1          0  2023-10-02 13:08:22+00:00  2023-10-02 13:08:22+00:00  \n",
       "2          0  2024-05-31 12:03:12+00:00  2024-05-31 12:03:12+00:00  \n",
       "3          0  2024-02-13 15:48:37+00:00  2024-02-13 15:48:37+00:00  \n",
       "4          0  2020-02-15 22:28:44+00:00  2020-02-15 22:28:44+00:00  "
      ]
     },
     "execution_count": 9,
     "metadata": {},
     "output_type": "execute_result"
    }
   ],
   "source": [
    "df.head()"
   ]
  },
  {
   "cell_type": "code",
   "execution_count": 10,
   "id": "65b444b3",
   "metadata": {},
   "outputs": [
    {
     "data": {
      "text/plain": [
       "(4725012, 10)"
      ]
     },
     "execution_count": 10,
     "metadata": {},
     "output_type": "execute_result"
    }
   ],
   "source": [
    "df.shape"
   ]
  },
  {
   "cell_type": "code",
   "execution_count": 11,
   "id": "871dd705",
   "metadata": {},
   "outputs": [],
   "source": [
    "df.to_csv(\"dataset/merged_comments.csv\")"
   ]
  },
  {
   "cell_type": "code",
   "execution_count": null,
   "id": "2faaecb5",
   "metadata": {},
   "outputs": [],
   "source": []
  }
 ],
 "metadata": {
  "kernelspec": {
   "display_name": "Python 3",
   "language": "python",
   "name": "python3"
  },
  "language_info": {
   "codemirror_mode": {
    "name": "ipython",
    "version": 3
   },
   "file_extension": ".py",
   "mimetype": "text/x-python",
   "name": "python",
   "nbconvert_exporter": "python",
   "pygments_lexer": "ipython3",
   "version": "3.12.0"
  }
 },
 "nbformat": 4,
 "nbformat_minor": 5
}
